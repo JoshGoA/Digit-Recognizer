{
 "nbformat": 4,
 "nbformat_minor": 2,
 "metadata": {
  "language_info": {
   "name": "python",
   "codemirror_mode": {
    "name": "ipython",
    "version": 3
   },
   "version": "3.7.4-final"
  },
  "orig_nbformat": 2,
  "file_extension": ".py",
  "mimetype": "text/x-python",
  "name": "python",
  "npconvert_exporter": "python",
  "pygments_lexer": "ipython3",
  "version": 3,
  "kernelspec": {
   "name": "python37432bitdd97d38ccd1e4514b0c5c9a2ea827663",
   "display_name": "Python 3.7.4 32-bit"
  }
 },
 "cells": [
  {
   "cell_type": "code",
   "execution_count": 2,
   "metadata": {},
   "outputs": [],
   "source": [
    "from utils import fetch\n",
    "from Model import RBM_LR, PCA_LR"
   ]
  },
  {
   "cell_type": "code",
   "execution_count": 6,
   "metadata": {},
   "outputs": [],
   "source": [
    "def hyperparameter_tuning(model, X_train, y_train, **params):\n",
    "    print(\n",
    "        model.grid_search(\n",
    "            X_train,\n",
    "            y_train,\n",
    "            **params\n",
    "        )\n",
    "    )"
   ]
  },
  {
   "cell_type": "code",
   "execution_count": null,
   "metadata": {},
   "outputs": [],
   "source": [
    "def build_model(model, X_train, X_test, y_train, y_test):\n",
    "    model.fit(X_train, y_train)\n",
    "\n",
    "    model.report(X_test, y_test)\n",
    "    model.plot_heatmap(X_test, y_test, model.predict(X_test))\n",
    "    model.plot_digits(\n",
    "        X_test, labels=y_test, ticks=(3, 10), labels_pred=model.predict(X_test)\n",
    "    )\n",
    "\n",
    "    model.joblib(path=\"src/lib/models/RBM_LR.joblib\")"
   ]
  },
  {
   "cell_type": "code",
   "execution_count": 4,
   "metadata": {},
   "outputs": [],
   "source": [
    "X_train, X_test, y_train, y_test = fetch(10000, random_state=0)\n",
    "rbm_lr = RBM_LR(random_state=0)\n",
    "pca_lr = PCA_LR(random_state=0)"
   ]
  },
  {
   "cell_type": "code",
   "execution_count": null,
   "metadata": {},
   "outputs": [],
   "source": []
  },
  {
   "cell_type": "code",
   "execution_count": null,
   "metadata": {},
   "outputs": [],
   "source": [
    "build_model(\n",
    "    rbm_lr,\n",
    "    X_train, X_test,\n",
    "    y_train, y_test\n",
    ")"
   ]
  },
  {
   "cell_type": "code",
   "execution_count": null,
   "metadata": {},
   "outputs": [],
   "source": []
  }
 ]
}